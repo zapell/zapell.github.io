{
 "cells": [
  {
   "cell_type": "code",
   "execution_count": 1,
   "metadata": {},
   "outputs": [],
   "source": [
    "import argparse\n",
    "import pprint\n",
    "import sys\n",
    "import os\n",
    "import subprocess\n",
    "import json\n",
    "import spotipy\n",
    "import spotipy.util as util\n",
    "import pandas as pd\n",
    "import numpy as np\n",
    "from spotipy.oauth2 import SpotifyClientCredentials\n",
    "import configparser\n",
    "from pprint import pprint"
   ]
  },
  {
   "cell_type": "code",
   "execution_count": 2,
   "metadata": {},
   "outputs": [],
   "source": [
    "def connect_user(config_fn='', uname=\"\", redirect_uri=\"http://localhost\"):\n",
    "    \"\"\"Reads client id and secret from config file and connects to the users spotify account\"\"\"\n",
    "    config = configparser.ConfigParser()\n",
    "    config.read(config_fn)\n",
    "    cid = config.get('SPOTIFY', 'CLIENT_ID')\n",
    "    secret = config.get('SPOTIFY', 'CLIENT_SECRET')\n",
    "    \n",
    "    token = util.prompt_for_user_token(\n",
    "        username=uname,\n",
    "        scope='user-library-read user-top-read',\n",
    "        client_id=cid,\n",
    "        client_secret=secret,\n",
    "        redirect_uri=redirect_uri)\n",
    "\n",
    "    sp = spotipy.Spotify(auth=token)\n",
    "    \n",
    "    return sp"
   ]
  },
  {
   "cell_type": "code",
   "execution_count": 16,
   "metadata": {},
   "outputs": [],
   "source": [
    "def get_song_data(sp):\n",
    "    \"\"\"Retrieves songs data from spotify api and creates dataframe\"\"\"\n",
    "    album_id = []\n",
    "    album_name = []\n",
    "    artist_id = []\n",
    "    artist_name = []\n",
    "    track_id = []\n",
    "    track_name = []\n",
    "    popularity = []\n",
    "    uri = []\n",
    "    duration = []\n",
    "    for i in range(0,4000,50):\n",
    "        tracks = sp.current_user_saved_tracks(limit=50,offset=i)\n",
    "\n",
    "        for i,t in enumerate(tracks['items']):\n",
    "            album_id.append(t['track']['album']['id'])\n",
    "            album_name.append(t['track']['album']['name'])\n",
    "            artist_id.append(t['track']['artists'][0]['id'])\n",
    "            artist_name.append(t['track']['artists'][0]['name'])\n",
    "            track_id.append(t['track']['id'])\n",
    "            track_name.append(t['track']['name'])\n",
    "            popularity.append(t['track']['popularity'])\n",
    "            uri.append(t['track']['uri'])\n",
    "            duration.append(t['track']['duration_ms'])\n",
    "            \n",
    "    dic= {'album_id': album_id, 'album_name': album_name, 'artist_id': artist_id, 'artist_name':artist_name,\n",
    "      'track_id':track_id, 'track_name':track_name, 'popularity':popularity, 'uri':uri, 'duration':duration}\n",
    "    \n",
    "    df = pd.DataFrame(dic)\n",
    "    \n",
    "    return df"
   ]
  },
  {
   "cell_type": "code",
   "execution_count": 6,
   "metadata": {},
   "outputs": [],
   "source": [
    "def get_song_features(sp, df):\n",
    "    \"\"\"retrieves song features from spotify api and creates dataframe\"\"\"\n",
    "    feat = pd.DataFrame(columns=['track_id', 'acousticness', 'danceability', 'energy', 'instrumentalness', 'key',\n",
    "                            'liveness', 'loudness', 'mode', 'speechiness', 'tempo', 'time_signature', 'valence'])\n",
    "    for i in range(0,len(df['track_id']),100):\n",
    "        row = []\n",
    "        batch = df['track_id'][i:i+100]\n",
    "        feature_results = sp.audio_features(batch)\n",
    "        for j, t in enumerate(feature_results):\n",
    "            if t == None:\n",
    "                None_counter = None_counter + 1\n",
    "            else:\n",
    "                feat.loc[i+j,'track_id'] = t['id']\n",
    "                feat.loc[i+j, 'acousticness'] = t['acousticness']\n",
    "                feat.loc[i+j, 'danceability'] = t['danceability']\n",
    "                feat.loc[i+j,'energy'] = t['energy']\n",
    "                feat.loc[i+j, 'instrumentalness'] = t['instrumentalness']\n",
    "                feat.loc[i+j, 'key'] = t['key']\n",
    "                feat.loc[i+j, 'liveness'] = t['liveness']\n",
    "                feat.loc[i+j,'loudness'] = t['loudness']\n",
    "                feat.loc[i+j, 'mode'] = t['mode']\n",
    "                feat.loc[i+j, 'speechiness'] = t['speechiness']\n",
    "                feat.loc[i+j, 'tempo'] = t['tempo']\n",
    "                feat.loc[i+j, 'time_signature'] = t['time_signature']\n",
    "                feat.loc[i+j, 'valence'] = t['valence']\n",
    "            \n",
    "    return feat"
   ]
  },
  {
   "cell_type": "code",
   "execution_count": 7,
   "metadata": {},
   "outputs": [],
   "source": [
    "def conv_feat_to_float(feat):\n",
    "    \"\"\"convert features dataframe to float\"\"\"\n",
    "    feat.set_index(\"track_id\", inplace=True)\n",
    "    feat = feat.astype(np.float64)\n",
    "    feat.reset_index(inplace=True)\n",
    "    return feat"
   ]
  },
  {
   "cell_type": "code",
   "execution_count": 17,
   "metadata": {},
   "outputs": [],
   "source": [
    "def create_df():\n",
    "    \"\"\"creates entire database and merges metadata and audio features dfs\"\"\"\n",
    "    sp = connect_user('/Users/zachapell/Desktop/config.cfg', \"zachapell5\")\n",
    "    df = get_song_data(sp)\n",
    "    feat = get_song_features(sp, df)\n",
    "    feat = conv_feat_to_float(feat)\n",
    "    df = feat.merge(df, on='track_id')\n",
    "    return df"
   ]
  },
  {
   "cell_type": "code",
   "execution_count": 18,
   "metadata": {},
   "outputs": [],
   "source": [
    "df = create_df()\n",
    "df.to_excel('./spotify_data.xlsx')"
   ]
  }
 ],
 "metadata": {
  "kernelspec": {
   "display_name": "Python 3",
   "language": "python",
   "name": "python3"
  },
  "language_info": {
   "codemirror_mode": {
    "name": "ipython",
    "version": 3
   },
   "file_extension": ".py",
   "mimetype": "text/x-python",
   "name": "python",
   "nbconvert_exporter": "python",
   "pygments_lexer": "ipython3",
   "version": "3.7.1"
  }
 },
 "nbformat": 4,
 "nbformat_minor": 4
}
