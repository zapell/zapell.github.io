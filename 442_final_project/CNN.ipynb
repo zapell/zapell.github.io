{
  "nbformat": 4,
  "nbformat_minor": 0,
  "metadata": {
    "colab": {
      "name": "CNN.ipynb",
      "provenance": [],
      "collapsed_sections": [],
      "machine_shape": "hm",
      "include_colab_link": true
    },
    "kernelspec": {
      "name": "python3",
      "display_name": "Python 3"
    }
  },
  "cells": [
    {
      "cell_type": "markdown",
      "metadata": {
        "id": "view-in-github",
        "colab_type": "text"
      },
      "source": [
        "<a href=\"https://colab.research.google.com/github/zapell/zapell.github.io/blob/master/442_final_project/CNN.ipynb\" target=\"_parent\"><img src=\"https://colab.research.google.com/assets/colab-badge.svg\" alt=\"Open In Colab\"/></a>"
      ]
    },
    {
      "cell_type": "code",
      "metadata": {
        "id": "PMQH-DkTIVMn"
      },
      "source": [
        "import os\n",
        "import cv2\n",
        "import pickle\n",
        "from PIL import Image\n",
        "import glob\n",
        "import re\n",
        "import numpy as np\n",
        "import pandas as pd\n",
        "import random\n",
        "import matplotlib.pyplot as plt\n",
        "import torch\n",
        "from torch import nn\n",
        "from torch import optim\n",
        "import torch.nn.functional as F\n",
        "from torch.utils.data import Dataset, DataLoader\n",
        "from tqdm import tqdm\n",
        "#from scipy.misc import imresize\n",
        "from skimage.transform import resize\n",
        "from torch.optim.lr_scheduler import StepLR\n",
        "from sklearn.model_selection import train_test_split"
      ],
      "execution_count": null,
      "outputs": []
    },
    {
      "cell_type": "code",
      "metadata": {
        "id": "58ETYTGKIYnm",
        "colab": {
          "base_uri": "https://localhost:8080/",
          "height": 122
        },
        "outputId": "70bfd3a5-8e02-4db5-edbb-45d5ab8cb495"
      },
      "source": [
        "from google.colab import drive\n",
        "drive.mount('/content/drive')"
      ],
      "execution_count": null,
      "outputs": [
        {
          "output_type": "stream",
          "text": [
            "Go to this URL in a browser: https://accounts.google.com/o/oauth2/auth?client_id=947318989803-6bn6qk8qdgf4n4g3pfee6491hc0brc4i.apps.googleusercontent.com&redirect_uri=urn%3aietf%3awg%3aoauth%3a2.0%3aoob&response_type=code&scope=email%20https%3a%2f%2fwww.googleapis.com%2fauth%2fdocs.test%20https%3a%2f%2fwww.googleapis.com%2fauth%2fdrive%20https%3a%2f%2fwww.googleapis.com%2fauth%2fdrive.photos.readonly%20https%3a%2f%2fwww.googleapis.com%2fauth%2fpeopleapi.readonly\n",
            "\n",
            "Enter your authorization code:\n",
            "··········\n",
            "Mounted at /content/drive\n"
          ],
          "name": "stdout"
        }
      ]
    },
    {
      "cell_type": "code",
      "metadata": {
        "id": "vRoJVMAoRW01"
      },
      "source": [
        "zip_path = '/content/drive/My Drive/442_final/Fnt.zip'\n",
        "!cp \"{zip_path}\" .\n",
        "!unzip -q Fnt.zip"
      ],
      "execution_count": null,
      "outputs": []
    },
    {
      "cell_type": "code",
      "metadata": {
        "id": "F_WgmstuUwB4"
      },
      "source": [
        "!rm Fnt.zip"
      ],
      "execution_count": null,
      "outputs": []
    },
    {
      "cell_type": "code",
      "metadata": {
        "id": "c_R0l3eRS__P",
        "colab": {
          "base_uri": "https://localhost:8080/",
          "height": 34
        },
        "outputId": "82c1b527-dcf3-4fbc-d30d-f6254b36710f"
      },
      "source": [
        "ls"
      ],
      "execution_count": null,
      "outputs": [
        {
          "output_type": "stream",
          "text": [
            "\u001b[0m\u001b[01;34mdrive\u001b[0m/  \u001b[01;34mFnt\u001b[0m/  \u001b[01;34m__MACOSX\u001b[0m/  \u001b[01;34msample_data\u001b[0m/\n"
          ],
          "name": "stdout"
        }
      ]
    },
    {
      "cell_type": "code",
      "metadata": {
        "id": "DY2aGR21InXc",
        "colab": {
          "base_uri": "https://localhost:8080/",
          "height": 54
        },
        "outputId": "56d15d71-7251-4102-c565-0caf1e401543"
      },
      "source": [
        "pth = ('Fnt/')\n",
        "fldrs = os.listdir(pth)\n",
        "print(fldrs)"
      ],
      "execution_count": null,
      "outputs": [
        {
          "output_type": "stream",
          "text": [
            "['Sample039', 'Sample017', 'Sample042', 'Sample057', 'Sample033', 'Sample027', 'Sample025', 'Sample018', 'Sample061', 'Sample006', 'Sample021', 'Sample034', 'Sample032', 'Sample045', 'Sample044', 'Sample043', 'Sample036', 'Sample035', 'Sample008', 'Sample030', 'Sample052', 'Sample047', 'Sample010', 'Sample046', 'Sample056', 'Sample004', 'Sample011', 'Sample055', 'Sample029', 'Sample019', 'Sample013', 'Sample049', 'Sample060', 'Sample041', 'Sample059', 'Sample009', 'Sample024', 'Sample012', 'Sample040', 'Sample053', 'Sample048', 'Sample026', 'Sample023', 'Sample054', 'Sample037', 'Sample014', 'Sample001', 'Sample062', 'Sample022', 'Sample020', 'Sample031', 'Sample015', 'Sample051', 'Sample003', 'Sample050', 'Sample005', 'Sample016', 'Sample028', 'Sample002', 'Sample038', 'Sample007', 'Sample058']\n"
          ],
          "name": "stdout"
        }
      ]
    },
    {
      "cell_type": "code",
      "metadata": {
        "id": "EM0U09j5IwHG"
      },
      "source": [
        "# load character folders\n",
        "def loadChars74k(images, labels, path):\n",
        "    # list of directories\n",
        "    dirlist = [ item for item in os.listdir(path) if os.path.isdir(os.path.join(path, item)) ]\n",
        "    print(dirlist)\n",
        "    # for each subfolder, open all files, append to list of images x and set path as label in y\n",
        "    for subfolder in dirlist:\n",
        "        imagePath = glob.glob(path + '/' + subfolder +'/*.png')\n",
        "        im_array = np.array( [np.array(Image.open(imagePath[i]).convert('L'), 'f').ravel() for i in range(len(imagePath))] )\n",
        "        images.append(im_array)\n",
        "        print(len(images))\n",
        "        # split into char and nums\n",
        "        temp = re.compile(\"([a-zA-Z]+)([0-9]+)\") \n",
        "        res = temp.match(subfolder).groups() \n",
        "        # labels list\n",
        "        labels.append(res[1])\n",
        "\n",
        "    return images, labels"
      ],
      "execution_count": null,
      "outputs": []
    },
    {
      "cell_type": "code",
      "metadata": {
        "id": "zvyeN_jJI4gB",
        "colab": {
          "base_uri": "https://localhost:8080/",
          "height": 1000
        },
        "outputId": "35ed6e0f-e6ed-4460-fe08-940ba2658e5b"
      },
      "source": [
        "img = []\n",
        "lbl = []\n",
        "img, lbl = loadChars74k(img, lbl, pth)"
      ],
      "execution_count": null,
      "outputs": [
        {
          "output_type": "stream",
          "text": [
            "['Sample039', 'Sample017', 'Sample042', 'Sample057', 'Sample033', 'Sample027', 'Sample025', 'Sample018', 'Sample061', 'Sample006', 'Sample021', 'Sample034', 'Sample032', 'Sample045', 'Sample044', 'Sample043', 'Sample036', 'Sample035', 'Sample008', 'Sample030', 'Sample052', 'Sample047', 'Sample010', 'Sample046', 'Sample056', 'Sample004', 'Sample011', 'Sample055', 'Sample029', 'Sample019', 'Sample013', 'Sample049', 'Sample060', 'Sample041', 'Sample059', 'Sample009', 'Sample024', 'Sample012', 'Sample040', 'Sample053', 'Sample048', 'Sample026', 'Sample023', 'Sample054', 'Sample037', 'Sample014', 'Sample001', 'Sample062', 'Sample022', 'Sample020', 'Sample031', 'Sample015', 'Sample051', 'Sample003', 'Sample050', 'Sample005', 'Sample016', 'Sample028', 'Sample002', 'Sample038', 'Sample007', 'Sample058']\n",
            "1\n",
            "2\n",
            "3\n",
            "4\n",
            "5\n",
            "6\n",
            "7\n",
            "8\n",
            "9\n",
            "10\n",
            "11\n",
            "12\n",
            "13\n",
            "14\n",
            "15\n",
            "16\n",
            "17\n",
            "18\n",
            "19\n",
            "20\n",
            "21\n",
            "22\n",
            "23\n",
            "24\n",
            "25\n",
            "26\n",
            "27\n",
            "28\n",
            "29\n",
            "30\n",
            "31\n",
            "32\n",
            "33\n",
            "34\n",
            "35\n",
            "36\n",
            "37\n",
            "38\n",
            "39\n",
            "40\n",
            "41\n",
            "42\n",
            "43\n",
            "44\n",
            "45\n",
            "46\n",
            "47\n",
            "48\n",
            "49\n",
            "50\n",
            "51\n",
            "52\n",
            "53\n",
            "54\n",
            "55\n",
            "56\n",
            "57\n",
            "58\n",
            "59\n",
            "60\n",
            "61\n",
            "62\n"
          ],
          "name": "stdout"
        }
      ]
    },
    {
      "cell_type": "code",
      "metadata": {
        "id": "vIwuu1PGI71U",
        "colab": {
          "base_uri": "https://localhost:8080/",
          "height": 34
        },
        "outputId": "f3a3586b-782b-4ded-bc31-e56e77a40dbc"
      },
      "source": [
        "# repeat labels for 1016 labels (num pics each char)\n",
        "lbl = np.repeat(lbl, 1016)\n",
        "len(lbl)"
      ],
      "execution_count": null,
      "outputs": [
        {
          "output_type": "execute_result",
          "data": {
            "text/plain": [
              "62992"
            ]
          },
          "metadata": {
            "tags": []
          },
          "execution_count": 9
        }
      ]
    },
    {
      "cell_type": "code",
      "metadata": {
        "id": "XmLun17sTwJ_"
      },
      "source": [
        "# stack folders to get one array\n",
        "img = np.vstack(img)\n",
        "#reshape into 128x128\n",
        "img = img.reshape((img.shape[0], 128,128))"
      ],
      "execution_count": null,
      "outputs": []
    },
    {
      "cell_type": "code",
      "metadata": {
        "id": "9HBJtdj_T0Ji"
      },
      "source": [
        "def resize_image(X, image_dim):\n",
        "    \"\"\"\n",
        "    Resizes the data partition X to the size specified in the config file.\n",
        "    Uses bicubic interpolation for resizing.\n",
        "\n",
        "    Returns:\n",
        "        the resized images as a numpy array.\n",
        "    \"\"\"\n",
        "    resized = []\n",
        "    for i in range(len(X)):\n",
        "        resized.append(resize(X[i], (image_dim,image_dim)))\n",
        "    return resized"
      ],
      "execution_count": null,
      "outputs": []
    },
    {
      "cell_type": "code",
      "metadata": {
        "id": "qJeBSdNwT2tA",
        "colab": {
          "base_uri": "https://localhost:8080/",
          "height": 285
        },
        "outputId": "cb8efdb4-10e8-44ad-f9bb-618f3c909773"
      },
      "source": [
        "#orig img\n",
        "plt.imshow(img[0])"
      ],
      "execution_count": null,
      "outputs": [
        {
          "output_type": "execute_result",
          "data": {
            "text/plain": [
              "<matplotlib.image.AxesImage at 0x7f4d9875e860>"
            ]
          },
          "metadata": {
            "tags": []
          },
          "execution_count": 12
        },
        {
          "output_type": "display_data",
          "data": {
            "image/png": "[encoded data removed]",
            "text/plain": [
              "<Figure size 432x288 with 1 Axes>"
            ]
          },
          "metadata": {
            "tags": [],
            "needs_background": "light"
          }
        }
      ]
    },
    {
      "cell_type": "code",
      "metadata": {
        "id": "c11fAzovT4dy"
      },
      "source": [
        "class ImageStandardizer(object):\n",
        "    \"\"\"\n",
        "    Channel-wise standardization for batch of images to mean 0 and variance 1. \n",
        "    The mean and standard deviation parameters are computed in `fit(X)` and\n",
        "    applied using `transform(X)`.\n",
        "    \n",
        "    X has shape (N, color_channel,image_height, image_width)\n",
        "    \"\"\"\n",
        "    def __init__(self):\n",
        "        super().__init__()\n",
        "        self.image_mean = None\n",
        "        self.image_std = None\n",
        "    \n",
        "    def fit(self, X):\n",
        "        # TODO: Complete this function\n",
        "        self.image_mean = []\n",
        "        self.image_std = []\n",
        "        \n",
        "        self.image_mean = np.mean(X, axis = (0,2,3))\n",
        "        self.image_std = np.std(X, axis=(0,2,3))\n",
        "        \n",
        "        return \n",
        "\n",
        "    def transform(self, X):\n",
        "        # TODO: Complete this function\n",
        "        X = ((X-self.image_mean)/self.image_std)\n",
        "        return X"
      ],
      "execution_count": null,
      "outputs": []
    },
    {
      "cell_type": "code",
      "metadata": {
        "id": "Y6QFNhhzT94l"
      },
      "source": [
        "img = resize_image(img, 32)\n",
        "#imr = images"
      ],
      "execution_count": null,
      "outputs": []
    },
    {
      "cell_type": "code",
      "metadata": {
        "id": "G-j7lbQpUodg",
        "colab": {
          "base_uri": "https://localhost:8080/",
          "height": 34
        },
        "outputId": "da003699-0029-4c7c-ed56-e8f41e1f0133"
      },
      "source": [
        "img = np.array(img)\n",
        "img.shape"
      ],
      "execution_count": null,
      "outputs": [
        {
          "output_type": "execute_result",
          "data": {
            "text/plain": [
              "(62992, 32, 32)"
            ]
          },
          "metadata": {
            "tags": []
          },
          "execution_count": 15
        }
      ]
    },
    {
      "cell_type": "code",
      "metadata": {
        "id": "h5wZzA7UUqH4"
      },
      "source": [
        "# clipping instead of smoothing\n",
        "img = np.where(img>200,255,0)\n",
        "# add channel dim\n",
        "img = img.reshape((img.shape[0],1,img.shape[1],img.shape[2]))"
      ],
      "execution_count": null,
      "outputs": []
    },
    {
      "cell_type": "code",
      "metadata": {
        "id": "c0k643SzYJoV"
      },
      "source": [
        "# 80/20 train/test\n",
        "train_size = int(np.ceil(.8*img.shape[0]))"
      ],
      "execution_count": null,
      "outputs": []
    },
    {
      "cell_type": "code",
      "metadata": {
        "id": "aHVIr0elZWSQ"
      },
      "source": [
        "X_train, X_test, y_train, y_test = train_test_split(img, lbl, test_size = .2, random_state=442)"
      ],
      "execution_count": null,
      "outputs": []
    },
    {
      "cell_type": "code",
      "metadata": {
        "id": "Q3Vn6kLvZa8j"
      },
      "source": [
        "# offset labels to match up with 0 indexing\n",
        "y_train = y_train.astype(np.int)\n",
        "y_train = y_train - 1\n",
        "y_test = y_test.astype(np.int)\n",
        "y_test = y_test - 1"
      ],
      "execution_count": null,
      "outputs": []
    },
    {
      "cell_type": "code",
      "metadata": {
        "id": "lKVNM4D3ZqZm"
      },
      "source": [
        "# split into train/val\n",
        "X_train, X_val, y_train, y_val = train_test_split(X_train, y_train, test_size=.2, random_state=442)"
      ],
      "execution_count": null,
      "outputs": []
    },
    {
      "cell_type": "code",
      "metadata": {
        "id": "uPMy_EpyZsJ5"
      },
      "source": [
        "# standardize img\n",
        "standardizer = ImageStandardizer()\n",
        "standardizer.fit(X_train)\n",
        "X_train = standardizer.transform(X_train)\n",
        "X_val = standardizer.transform(X_val)\n",
        "X_test = standardizer.transform(X_test)"
      ],
      "execution_count": null,
      "outputs": []
    },
    {
      "cell_type": "code",
      "metadata": {
        "id": "2i1HIcKkZyqx"
      },
      "source": [
        "class MyDataset(Dataset):\n",
        "    def __init__(self, data, target, transform=None):\n",
        "        self.data = torch.from_numpy(data).float()\n",
        "        self.target = torch.from_numpy(target).long()\n",
        "        self.transform = transform\n",
        "        \n",
        "    def __getitem__(self, index):\n",
        "        x = self.data[index]\n",
        "        y = self.target[index]\n",
        "        \n",
        "        if self.transform:\n",
        "            x = self.transform(x)\n",
        "            \n",
        "        return x, y\n",
        "    \n",
        "    def __len__(self):\n",
        "        return len(self.data)"
      ],
      "execution_count": null,
      "outputs": []
    },
    {
      "cell_type": "code",
      "metadata": {
        "id": "abpmUeVdaN7z"
      },
      "source": [
        "train = MyDataset(X_train, y_train)\n",
        "train_loader = DataLoader(train, batch_size=128, shuffle=True)\n",
        "val = MyDataset(X_val, y_val)\n",
        "val_loader = DataLoader(val, batch_size=64, shuffle=True)\n",
        "test = MyDataset(X_test, y_test)\n",
        "test_loader = DataLoader(test, batch_size=64, shuffle=True)"
      ],
      "execution_count": null,
      "outputs": []
    },
    {
      "cell_type": "code",
      "metadata": {
        "id": "RmZrtEytaSH2"
      },
      "source": [
        "class Network(nn.Module):\n",
        "    def __init__(self):\n",
        "        super().__init__()\n",
        "        \n",
        "        self.conv1 = nn.Conv2d(in_channels=1,out_channels=16,kernel_size=3,padding=1)\n",
        "        self.conv2 = nn.Conv2d(in_channels=16,out_channels=32,kernel_size=3,padding=1)\n",
        "        self.conv3 = nn.Conv2d(in_channels=32,out_channels=128, kernel_size=3,padding=1)\n",
        "        self.fc1 = nn.Linear(128*4*4, 256) \n",
        "        self.fc2 = nn.Linear(256,128)\n",
        "        self.fc3 = nn.Linear(128,62) # from hidden layer to 10 class scores\n",
        "\n",
        "    def forward(self,x):\n",
        "        #print(x.shape)\n",
        "        #x = x.view(-1,32*32) # Flatten each image in the batch\n",
        "        #print(x.shape)\n",
        "        relu = nn.ReLU()\n",
        "        pool = nn.MaxPool2d(2)\n",
        "        drop = nn.Dropout2d(.3)\n",
        "        bn = nn.BatchNorm2d(16)\n",
        "        #print('before: ', x.shape)\n",
        "        x = self.conv1(x)\n",
        "        x = bn(x)\n",
        "        x = drop(x)\n",
        "        x = relu(x)\n",
        "        #print('conv1: ', x.shape)\n",
        "        x = pool(x)\n",
        "        #print('pool1:',x.shape)\n",
        "        x = self.conv2(x)\n",
        "        x = drop(x)\n",
        "        #print('conv2: ', x.shape)\n",
        "        x = relu(x)\n",
        "        x = pool(x)\n",
        "        x = self.conv3(x)\n",
        "        x = drop(x)\n",
        "        #print('conv3: ', x.shape)\n",
        "        x = relu(x)\n",
        "        x = pool(x)\n",
        "        #print('pool3: ', x.shape)\n",
        "        x = x.reshape(-1, 128*4*4)\n",
        "        x = self.fc1(x)\n",
        "        x = drop(x)\n",
        "        #print('fc1: ', x.shape)\n",
        "        x = self.fc2(x)\n",
        "        #x = drop(x)\n",
        "        #print('fc2: ', x.shape)\n",
        "        x = self.fc3(x)\n",
        "        #print('out: ', x.shape)\n",
        "        #print(x.shape)\n",
        "        return x"
      ],
      "execution_count": null,
      "outputs": []
    },
    {
      "cell_type": "code",
      "metadata": {
        "id": "XYZ_Tlc-aUy7"
      },
      "source": [
        "device = \"cuda\" if torch.cuda.is_available() else \"cpu\" # Configure device\n",
        "model = Network().to(device)\n",
        "criterion = nn.CrossEntropyLoss() # Specify the loss layer\n",
        "# TODO: Modify the line below, experiment with different optimizers and parameters (such as learning rate)\n",
        "optimizer = optim.Adam(model.parameters(), lr=1e-3, weight_decay=1e-4) # Specify optimizer and assign trainable parameters to it, weight_decay is L2 regularization strength\n",
        "num_epoch = 30 # TODO: Choose an appropriate number of training epochs\n",
        "scheduler = StepLR(optimizer, step_size=15, gamma=0.1)\n",
        "val_loss = []\n",
        "train_loss = []"
      ],
      "execution_count": null,
      "outputs": []
    },
    {
      "cell_type": "code",
      "metadata": {
        "id": "lLSdRNAcacED"
      },
      "source": [
        "def train(model, loader, valloader, num_epoch = 10): # Train the model\n",
        "    print(\"Start training...\")\n",
        "    model.train() # Set the model to training mode\n",
        "    for i in range(num_epoch):\n",
        "        running_loss = []\n",
        "        for batch, label in tqdm(loader, position=0):\n",
        "            batch = batch.to(device)\n",
        "            label = label.to(device)\n",
        "            optimizer.zero_grad() # Clear gradients from the previous iteration\n",
        "            pred = model(batch) # This will call Network.forward() that you implement\n",
        "            #print(pred, label)\n",
        "            loss = criterion(pred, label) # Calculate the loss\n",
        "            running_loss.append(loss.item())\n",
        "            loss.backward() # Backprop gradients to all tensors in the network\n",
        "            optimizer.step()\n",
        "        # val loss\n",
        "        val_r_loss = []\n",
        "        for batch_v, label_v in tqdm(valloader, position=0):\n",
        "            batch_v = batch_v.to(device)\n",
        "            label_v = label_v.to(device)\n",
        "            #optimizer.zero_grad() # Clear gradients from the previous iteration\n",
        "            pred_v = model(batch_v) # This will call Network.forward() that you implement\n",
        "            loss_v = criterion(pred_v, label_v) # Calculate the loss\n",
        "            val_r_loss.append(loss_v.item())\n",
        "        val_loss.append(np.mean(val_r_loss))\n",
        "        scheduler.step()\n",
        "        ## end val loss code\n",
        "        train_loss.append(np.mean(running_loss))        \n",
        "        print(\"Epoch {} loss:{}\".format(i+1,np.mean(running_loss))) # Print the average loss for this epoch\n",
        "    print(\"Done!\")\n",
        "\n",
        "def evaluate(model, loader): # Evaluate accuracy on validation / test set\n",
        "    model.eval() # Set the model to evaluation mode\n",
        "    correct = 0\n",
        "    with torch.no_grad(): # Do not calculate grident to speed up computation\n",
        "        for batch, label in tqdm(loader, position=0):\n",
        "            batch = batch.to(device)\n",
        "            label = label.to(device)\n",
        "            pred = model(batch)\n",
        "            correct += (torch.argmax(pred,dim=1)==label).sum().item()\n",
        "    acc = correct/len(loader.dataset)\n",
        "    print(\"Evaluation accuracy: {}\".format(acc))\n",
        "    return acc\n",
        "    "
      ],
      "execution_count": null,
      "outputs": []
    },
    {
      "cell_type": "code",
      "metadata": {
        "id": "W1j_TFRxaeFe",
        "colab": {
          "base_uri": "https://localhost:8080/",
          "height": 1000
        },
        "outputId": "523255fb-29a5-4301-9846-7cd3da542ada"
      },
      "source": [
        "train(model, train_loader, val_loader, 40)"
      ],
      "execution_count": null,
      "outputs": [
        {
          "output_type": "stream",
          "text": [
            "\r  0%|          | 0/315 [00:00<?, ?it/s]"
          ],
          "name": "stderr"
        },
        {
          "output_type": "stream",
          "text": [
            "Start training...\n"
          ],
          "name": "stdout"
        },
        {
          "output_type": "stream",
          "text": [
            "100%|██████████| 315/315 [00:30<00:00, 10.23it/s]\n",
            "100%|██████████| 158/158 [00:03<00:00, 48.86it/s]\n",
            "  1%|          | 2/315 [00:00<00:30, 10.23it/s]"
          ],
          "name": "stderr"
        },
        {
          "output_type": "stream",
          "text": [
            "Epoch 1 loss:1.4219488234747024\n"
          ],
          "name": "stdout"
        },
        {
          "output_type": "stream",
          "text": [
            "100%|██████████| 315/315 [00:30<00:00, 10.40it/s]\n",
            "100%|██████████| 158/158 [00:03<00:00, 49.30it/s]\n",
            "  0%|          | 1/315 [00:00<00:32,  9.81it/s]"
          ],
          "name": "stderr"
        },
        {
          "output_type": "stream",
          "text": [
            "Epoch 2 loss:0.716532372103797\n"
          ],
          "name": "stdout"
        },
        {
          "output_type": "stream",
          "text": [
            "100%|██████████| 315/315 [00:30<00:00, 10.47it/s]\n",
            "100%|██████████| 158/158 [00:03<00:00, 49.63it/s]\n",
            "  1%|          | 2/315 [00:00<00:29, 10.55it/s]"
          ],
          "name": "stderr"
        },
        {
          "output_type": "stream",
          "text": [
            "Epoch 3 loss:0.6285583261459593\n"
          ],
          "name": "stdout"
        },
        {
          "output_type": "stream",
          "text": [
            "100%|██████████| 315/315 [00:30<00:00, 10.42it/s]\n",
            "100%|██████████| 158/158 [00:03<00:00, 48.97it/s]\n",
            "  1%|          | 2/315 [00:00<00:29, 10.63it/s]"
          ],
          "name": "stderr"
        },
        {
          "output_type": "stream",
          "text": [
            "Epoch 4 loss:0.5755895340253436\n"
          ],
          "name": "stdout"
        },
        {
          "output_type": "stream",
          "text": [
            "100%|██████████| 315/315 [00:29<00:00, 10.57it/s]\n",
            "100%|██████████| 158/158 [00:03<00:00, 49.57it/s]\n",
            "  1%|          | 2/315 [00:00<00:29, 10.69it/s]"
          ],
          "name": "stderr"
        },
        {
          "output_type": "stream",
          "text": [
            "Epoch 5 loss:0.5392155143949721\n"
          ],
          "name": "stdout"
        },
        {
          "output_type": "stream",
          "text": [
            "100%|██████████| 315/315 [00:30<00:00, 10.46it/s]\n",
            "100%|██████████| 158/158 [00:03<00:00, 48.67it/s]\n",
            "  1%|          | 2/315 [00:00<00:29, 10.46it/s]"
          ],
          "name": "stderr"
        },
        {
          "output_type": "stream",
          "text": [
            "Epoch 6 loss:0.5091446205737099\n"
          ],
          "name": "stdout"
        },
        {
          "output_type": "stream",
          "text": [
            "100%|██████████| 315/315 [00:30<00:00, 10.29it/s]\n",
            "100%|██████████| 158/158 [00:03<00:00, 49.17it/s]\n",
            "  1%|          | 2/315 [00:00<00:29, 10.71it/s]"
          ],
          "name": "stderr"
        },
        {
          "output_type": "stream",
          "text": [
            "Epoch 7 loss:0.4963680793368627\n"
          ],
          "name": "stdout"
        },
        {
          "output_type": "stream",
          "text": [
            "100%|██████████| 315/315 [00:30<00:00, 10.43it/s]\n",
            "100%|██████████| 158/158 [00:03<00:00, 49.21it/s]\n",
            "  1%|          | 2/315 [00:00<00:29, 10.74it/s]"
          ],
          "name": "stderr"
        },
        {
          "output_type": "stream",
          "text": [
            "Epoch 8 loss:0.47588215167560277\n"
          ],
          "name": "stdout"
        },
        {
          "output_type": "stream",
          "text": [
            "100%|██████████| 315/315 [00:30<00:00, 10.43it/s]\n",
            "100%|██████████| 158/158 [00:03<00:00, 49.31it/s]\n",
            "  1%|          | 2/315 [00:00<00:30, 10.42it/s]"
          ],
          "name": "stderr"
        },
        {
          "output_type": "stream",
          "text": [
            "Epoch 9 loss:0.4640444520920042\n"
          ],
          "name": "stdout"
        },
        {
          "output_type": "stream",
          "text": [
            "100%|██████████| 315/315 [00:29<00:00, 10.55it/s]\n",
            "100%|██████████| 158/158 [00:03<00:00, 49.84it/s]\n",
            "  1%|          | 2/315 [00:00<00:28, 10.87it/s]"
          ],
          "name": "stderr"
        },
        {
          "output_type": "stream",
          "text": [
            "Epoch 10 loss:0.44705271474898806\n"
          ],
          "name": "stdout"
        },
        {
          "output_type": "stream",
          "text": [
            "100%|██████████| 315/315 [00:29<00:00, 10.74it/s]\n",
            "100%|██████████| 158/158 [00:03<00:00, 50.80it/s]\n",
            "  1%|          | 2/315 [00:00<00:29, 10.60it/s]"
          ],
          "name": "stderr"
        },
        {
          "output_type": "stream",
          "text": [
            "Epoch 11 loss:0.4418065790146116\n"
          ],
          "name": "stdout"
        },
        {
          "output_type": "stream",
          "text": [
            "100%|██████████| 315/315 [00:32<00:00,  9.63it/s]\n",
            "100%|██████████| 158/158 [00:03<00:00, 49.99it/s]\n",
            "  1%|          | 2/315 [00:00<00:29, 10.56it/s]"
          ],
          "name": "stderr"
        },
        {
          "output_type": "stream",
          "text": [
            "Epoch 12 loss:0.43523263510257476\n"
          ],
          "name": "stdout"
        },
        {
          "output_type": "stream",
          "text": [
            "100%|██████████| 315/315 [00:29<00:00, 10.64it/s]\n",
            "100%|██████████| 158/158 [00:03<00:00, 50.20it/s]\n",
            "  1%|          | 2/315 [00:00<00:29, 10.47it/s]"
          ],
          "name": "stderr"
        },
        {
          "output_type": "stream",
          "text": [
            "Epoch 13 loss:0.4247399852862434\n"
          ],
          "name": "stdout"
        },
        {
          "output_type": "stream",
          "text": [
            "100%|██████████| 315/315 [00:29<00:00, 10.70it/s]\n",
            "100%|██████████| 158/158 [00:03<00:00, 50.95it/s]\n",
            "  1%|          | 2/315 [00:00<00:29, 10.67it/s]"
          ],
          "name": "stderr"
        },
        {
          "output_type": "stream",
          "text": [
            "Epoch 14 loss:0.4157213145778293\n"
          ],
          "name": "stdout"
        },
        {
          "output_type": "stream",
          "text": [
            "100%|██████████| 315/315 [00:29<00:00, 10.71it/s]\n",
            "100%|██████████| 158/158 [00:03<00:00, 50.61it/s]\n",
            "  1%|          | 2/315 [00:00<00:29, 10.67it/s]"
          ],
          "name": "stderr"
        },
        {
          "output_type": "stream",
          "text": [
            "Epoch 15 loss:0.4111552732804465\n"
          ],
          "name": "stdout"
        },
        {
          "output_type": "stream",
          "text": [
            "100%|██████████| 315/315 [00:29<00:00, 10.66it/s]\n",
            "100%|██████████| 158/158 [00:03<00:00, 49.98it/s]\n",
            "  1%|          | 2/315 [00:00<00:29, 10.65it/s]"
          ],
          "name": "stderr"
        },
        {
          "output_type": "stream",
          "text": [
            "Epoch 16 loss:0.3514573053708152\n"
          ],
          "name": "stdout"
        },
        {
          "output_type": "stream",
          "text": [
            "100%|██████████| 315/315 [00:29<00:00, 10.59it/s]\n",
            "100%|██████████| 158/158 [00:03<00:00, 50.60it/s]\n",
            "  1%|          | 2/315 [00:00<00:29, 10.68it/s]"
          ],
          "name": "stderr"
        },
        {
          "output_type": "stream",
          "text": [
            "Epoch 17 loss:0.3267440508282374\n"
          ],
          "name": "stdout"
        },
        {
          "output_type": "stream",
          "text": [
            "100%|██████████| 315/315 [00:29<00:00, 10.67it/s]\n",
            "100%|██████████| 158/158 [00:03<00:00, 50.66it/s]\n",
            "  1%|          | 2/315 [00:00<00:28, 10.92it/s]"
          ],
          "name": "stderr"
        },
        {
          "output_type": "stream",
          "text": [
            "Epoch 18 loss:0.31922799211645886\n"
          ],
          "name": "stdout"
        },
        {
          "output_type": "stream",
          "text": [
            "100%|██████████| 315/315 [00:29<00:00, 10.53it/s]\n",
            "100%|██████████| 158/158 [00:03<00:00, 49.64it/s]\n",
            "  1%|          | 2/315 [00:00<00:29, 10.61it/s]"
          ],
          "name": "stderr"
        },
        {
          "output_type": "stream",
          "text": [
            "Epoch 19 loss:0.30857261830852145\n"
          ],
          "name": "stdout"
        },
        {
          "output_type": "stream",
          "text": [
            "100%|██████████| 315/315 [00:30<00:00, 10.44it/s]\n",
            "100%|██████████| 158/158 [00:03<00:00, 49.48it/s]\n",
            "  1%|          | 2/315 [00:00<00:29, 10.44it/s]"
          ],
          "name": "stderr"
        },
        {
          "output_type": "stream",
          "text": [
            "Epoch 20 loss:0.3069201251817128\n"
          ],
          "name": "stdout"
        },
        {
          "output_type": "stream",
          "text": [
            "100%|██████████| 315/315 [00:30<00:00, 10.39it/s]\n",
            "100%|██████████| 158/158 [00:03<00:00, 49.00it/s]\n",
            "  1%|          | 2/315 [00:00<00:30, 10.25it/s]"
          ],
          "name": "stderr"
        },
        {
          "output_type": "stream",
          "text": [
            "Epoch 21 loss:0.30360529678208487\n"
          ],
          "name": "stdout"
        },
        {
          "output_type": "stream",
          "text": [
            "100%|██████████| 315/315 [00:30<00:00, 10.41it/s]\n",
            "100%|██████████| 158/158 [00:03<00:00, 49.43it/s]\n",
            "  1%|          | 2/315 [00:00<00:29, 10.63it/s]"
          ],
          "name": "stderr"
        },
        {
          "output_type": "stream",
          "text": [
            "Epoch 22 loss:0.29842785398165383\n"
          ],
          "name": "stdout"
        },
        {
          "output_type": "stream",
          "text": [
            "100%|██████████| 315/315 [00:30<00:00, 10.44it/s]\n",
            "100%|██████████| 158/158 [00:03<00:00, 49.27it/s]\n",
            "  1%|          | 2/315 [00:00<00:30, 10.38it/s]"
          ],
          "name": "stderr"
        },
        {
          "output_type": "stream",
          "text": [
            "Epoch 23 loss:0.29650448125506207\n"
          ],
          "name": "stdout"
        },
        {
          "output_type": "stream",
          "text": [
            "100%|██████████| 315/315 [00:30<00:00, 10.40it/s]\n",
            "100%|██████████| 158/158 [00:03<00:00, 49.60it/s]\n",
            "  1%|          | 2/315 [00:00<00:29, 10.71it/s]"
          ],
          "name": "stderr"
        },
        {
          "output_type": "stream",
          "text": [
            "Epoch 24 loss:0.2958787827737748\n"
          ],
          "name": "stdout"
        },
        {
          "output_type": "stream",
          "text": [
            "100%|██████████| 315/315 [00:29<00:00, 10.57it/s]\n",
            "100%|██████████| 158/158 [00:03<00:00, 50.38it/s]\n",
            "  1%|          | 2/315 [00:00<00:28, 10.80it/s]"
          ],
          "name": "stderr"
        },
        {
          "output_type": "stream",
          "text": [
            "Epoch 25 loss:0.2869681415103731\n"
          ],
          "name": "stdout"
        },
        {
          "output_type": "stream",
          "text": [
            "100%|██████████| 315/315 [00:29<00:00, 10.64it/s]\n",
            "100%|██████████| 158/158 [00:03<00:00, 50.48it/s]\n",
            "  1%|          | 2/315 [00:00<00:29, 10.59it/s]"
          ],
          "name": "stderr"
        },
        {
          "output_type": "stream",
          "text": [
            "Epoch 26 loss:0.2896554808294962\n"
          ],
          "name": "stdout"
        },
        {
          "output_type": "stream",
          "text": [
            "100%|██████████| 315/315 [00:29<00:00, 10.66it/s]\n",
            "100%|██████████| 158/158 [00:03<00:00, 50.01it/s]\n",
            "  0%|          | 1/315 [00:00<00:31,  9.96it/s]"
          ],
          "name": "stderr"
        },
        {
          "output_type": "stream",
          "text": [
            "Epoch 27 loss:0.28422484360043965\n"
          ],
          "name": "stdout"
        },
        {
          "output_type": "stream",
          "text": [
            "100%|██████████| 315/315 [00:29<00:00, 10.54it/s]\n",
            "100%|██████████| 158/158 [00:03<00:00, 49.69it/s]\n",
            "  1%|          | 2/315 [00:00<00:28, 10.83it/s]"
          ],
          "name": "stderr"
        },
        {
          "output_type": "stream",
          "text": [
            "Epoch 28 loss:0.28079339062410685\n"
          ],
          "name": "stdout"
        },
        {
          "output_type": "stream",
          "text": [
            "100%|██████████| 315/315 [00:30<00:00, 10.41it/s]\n",
            "100%|██████████| 158/158 [00:03<00:00, 49.82it/s]\n",
            "  1%|          | 2/315 [00:00<00:29, 10.72it/s]"
          ],
          "name": "stderr"
        },
        {
          "output_type": "stream",
          "text": [
            "Epoch 29 loss:0.2802277423559673\n"
          ],
          "name": "stdout"
        },
        {
          "output_type": "stream",
          "text": [
            "100%|██████████| 315/315 [00:32<00:00,  9.57it/s]\n",
            "100%|██████████| 158/158 [00:03<00:00, 49.25it/s]\n",
            "  1%|          | 2/315 [00:00<00:29, 10.71it/s]"
          ],
          "name": "stderr"
        },
        {
          "output_type": "stream",
          "text": [
            "Epoch 30 loss:0.28175040138146235\n"
          ],
          "name": "stdout"
        },
        {
          "output_type": "stream",
          "text": [
            "100%|██████████| 315/315 [00:30<00:00, 10.42it/s]\n",
            "100%|██████████| 158/158 [00:03<00:00, 49.17it/s]\n",
            "  1%|          | 2/315 [00:00<00:29, 10.51it/s]"
          ],
          "name": "stderr"
        },
        {
          "output_type": "stream",
          "text": [
            "Epoch 31 loss:0.2740865502565626\n"
          ],
          "name": "stdout"
        },
        {
          "output_type": "stream",
          "text": [
            "100%|██████████| 315/315 [00:30<00:00, 10.38it/s]\n",
            "100%|██████████| 158/158 [00:03<00:00, 49.85it/s]\n",
            "  0%|          | 1/315 [00:00<00:32,  9.62it/s]"
          ],
          "name": "stderr"
        },
        {
          "output_type": "stream",
          "text": [
            "Epoch 32 loss:0.27162789423314354\n"
          ],
          "name": "stdout"
        },
        {
          "output_type": "stream",
          "text": [
            "100%|██████████| 315/315 [00:30<00:00, 10.49it/s]\n",
            "100%|██████████| 158/158 [00:03<00:00, 49.97it/s]\n",
            "  0%|          | 1/315 [00:00<00:33,  9.44it/s]"
          ],
          "name": "stderr"
        },
        {
          "output_type": "stream",
          "text": [
            "Epoch 33 loss:0.26915048308788786\n"
          ],
          "name": "stdout"
        },
        {
          "output_type": "stream",
          "text": [
            "100%|██████████| 315/315 [00:30<00:00, 10.40it/s]\n",
            "100%|██████████| 158/158 [00:03<00:00, 49.21it/s]\n",
            "  1%|          | 2/315 [00:00<00:29, 10.58it/s]"
          ],
          "name": "stderr"
        },
        {
          "output_type": "stream",
          "text": [
            "Epoch 34 loss:0.26955962710910375\n"
          ],
          "name": "stdout"
        },
        {
          "output_type": "stream",
          "text": [
            "100%|██████████| 315/315 [00:30<00:00, 10.41it/s]\n",
            "100%|██████████| 158/158 [00:03<00:00, 49.23it/s]\n",
            "  1%|          | 2/315 [00:00<00:28, 10.86it/s]"
          ],
          "name": "stderr"
        },
        {
          "output_type": "stream",
          "text": [
            "Epoch 35 loss:0.26795830641474044\n"
          ],
          "name": "stdout"
        },
        {
          "output_type": "stream",
          "text": [
            "100%|██████████| 315/315 [00:29<00:00, 10.53it/s]\n",
            "100%|██████████| 158/158 [00:03<00:00, 49.50it/s]\n",
            "  1%|          | 2/315 [00:00<00:30, 10.33it/s]"
          ],
          "name": "stderr"
        },
        {
          "output_type": "stream",
          "text": [
            "Epoch 36 loss:0.2672123358363197\n"
          ],
          "name": "stdout"
        },
        {
          "output_type": "stream",
          "text": [
            "100%|██████████| 315/315 [00:30<00:00, 10.41it/s]\n",
            "100%|██████████| 158/158 [00:03<00:00, 45.99it/s]\n",
            "  0%|          | 1/315 [00:00<00:33,  9.45it/s]"
          ],
          "name": "stderr"
        },
        {
          "output_type": "stream",
          "text": [
            "Epoch 37 loss:0.26910638293576616\n"
          ],
          "name": "stdout"
        },
        {
          "output_type": "stream",
          "text": [
            "100%|██████████| 315/315 [00:31<00:00, 10.14it/s]\n",
            "100%|██████████| 158/158 [00:03<00:00, 48.51it/s]\n",
            "  1%|          | 2/315 [00:00<00:29, 10.49it/s]"
          ],
          "name": "stderr"
        },
        {
          "output_type": "stream",
          "text": [
            "Epoch 38 loss:0.2669253197927324\n"
          ],
          "name": "stdout"
        },
        {
          "output_type": "stream",
          "text": [
            "100%|██████████| 315/315 [00:30<00:00, 10.21it/s]\n",
            "100%|██████████| 158/158 [00:03<00:00, 48.83it/s]\n",
            "  0%|          | 1/315 [00:00<00:34,  9.19it/s]"
          ],
          "name": "stderr"
        },
        {
          "output_type": "stream",
          "text": [
            "Epoch 39 loss:0.2655443241435384\n"
          ],
          "name": "stdout"
        },
        {
          "output_type": "stream",
          "text": [
            "100%|██████████| 315/315 [00:31<00:00, 10.16it/s]\n",
            "100%|██████████| 158/158 [00:03<00:00, 48.22it/s]"
          ],
          "name": "stderr"
        },
        {
          "output_type": "stream",
          "text": [
            "Epoch 40 loss:0.26606643233034344\n",
            "Done!\n"
          ],
          "name": "stdout"
        },
        {
          "output_type": "stream",
          "text": [
            "\n"
          ],
          "name": "stderr"
        }
      ]
    },
    {
      "cell_type": "code",
      "metadata": {
        "id": "cp5oCq7Oagr7",
        "colab": {
          "base_uri": "https://localhost:8080/",
          "height": 295
        },
        "outputId": "9951a795-5d14-4aaf-b211-2043ded4ddf6"
      },
      "source": [
        "plt.plot(train_loss, label='train_loss')\n",
        "plt.plot(val_loss, label='val_loss')\n",
        "plt.xlabel('epoch')\n",
        "plt.ylabel('loss')\n",
        "plt.title('val v train loss')\n",
        "plt.legend()\n",
        "plt.show()"
      ],
      "execution_count": null,
      "outputs": [
        {
          "output_type": "display_data",
          "data": {
            "image/png": "[encoded data removed]",
            "text/plain": [
              "<Figure size 432x288 with 1 Axes>"
            ]
          },
          "metadata": {
            "tags": [],
            "needs_background": "light"
          }
        }
      ]
    },
    {
      "cell_type": "code",
      "metadata": {
        "id": "p2STCfZsaimu",
        "colab": {
          "base_uri": "https://localhost:8080/",
          "height": 136
        },
        "outputId": "d4ade26e-a002-4c77-e03b-d57920a84f28"
      },
      "source": [
        "print(\"Evaluate on validation set...\")\n",
        "evaluate(model, val_loader)\n",
        "print(\"Evaluate on test set\")\n",
        "evaluate(model, test_loader)"
      ],
      "execution_count": null,
      "outputs": [
        {
          "output_type": "stream",
          "text": [
            "\r  0%|          | 0/158 [00:00<?, ?it/s]"
          ],
          "name": "stderr"
        },
        {
          "output_type": "stream",
          "text": [
            "Evaluate on validation set...\n"
          ],
          "name": "stdout"
        },
        {
          "output_type": "stream",
          "text": [
            "100%|██████████| 158/158 [00:03<00:00, 49.57it/s]\n",
            "  3%|▎         | 5/197 [00:00<00:04, 44.42it/s]"
          ],
          "name": "stderr"
        },
        {
          "output_type": "stream",
          "text": [
            "Evaluation accuracy: 0.8635777358864967\n",
            "Evaluate on test set\n"
          ],
          "name": "stdout"
        },
        {
          "output_type": "stream",
          "text": [
            "100%|██████████| 197/197 [00:03<00:00, 49.49it/s]"
          ],
          "name": "stderr"
        },
        {
          "output_type": "stream",
          "text": [
            "Evaluation accuracy: 0.8617350583379634\n"
          ],
          "name": "stdout"
        },
        {
          "output_type": "stream",
          "text": [
            "\n"
          ],
          "name": "stderr"
        },
        {
          "output_type": "execute_result",
          "data": {
            "text/plain": [
              "0.8617350583379634"
            ]
          },
          "metadata": {
            "tags": []
          },
          "execution_count": 29
        }
      ]
    },
    {
      "cell_type": "code",
      "metadata": {
        "id": "fTJCvn5joo4X",
        "colab": {
          "base_uri": "https://localhost:8080/",
          "height": 54
        },
        "outputId": "c38c3afb-94a2-419e-a455-bfb10355c9ba"
      },
      "source": [
        "from google.colab import drive\n",
        "drive.mount('/content/drive')"
      ],
      "execution_count": null,
      "outputs": [
        {
          "output_type": "stream",
          "text": [
            "Drive already mounted at /content/drive; to attempt to forcibly remount, call drive.mount(\"/content/drive\", force_remount=True).\n"
          ],
          "name": "stdout"
        }
      ]
    },
    {
      "cell_type": "code",
      "metadata": {
        "id": "9SHfytM2Nx7X",
        "colab": {
          "base_uri": "https://localhost:8080/",
          "height": 51
        },
        "outputId": "1bf52b6e-2392-4c9a-9b6a-b5a3d3a85c3b"
      },
      "source": [
        "cd content"
      ],
      "execution_count": null,
      "outputs": [
        {
          "output_type": "stream",
          "text": [
            "[Errno 2] No such file or directory: 'content'\n",
            "/root\n"
          ],
          "name": "stdout"
        }
      ]
    },
    {
      "cell_type": "code",
      "metadata": {
        "id": "IfBNoqcfOTXh",
        "colab": {
          "base_uri": "https://localhost:8080/",
          "height": 34
        },
        "outputId": "59c6b6c3-355d-403e-a7bc-4aaaa7b3def5"
      },
      "source": [
        "cd ..\n"
      ],
      "execution_count": null,
      "outputs": [
        {
          "output_type": "stream",
          "text": [
            "/\n"
          ],
          "name": "stdout"
        }
      ]
    },
    {
      "cell_type": "code",
      "metadata": {
        "id": "dqpfHZ4MOUwK",
        "colab": {
          "base_uri": "https://localhost:8080/",
          "height": 34
        },
        "outputId": "d9e0bf61-696e-4295-fcb1-a77bc484b988"
      },
      "source": [
        "cd content/drive/My\\ Drive/442_final"
      ],
      "execution_count": null,
      "outputs": [
        {
          "output_type": "stream",
          "text": [
            "/content/drive/My Drive/442_final\n"
          ],
          "name": "stdout"
        }
      ]
    },
    {
      "cell_type": "code",
      "metadata": {
        "id": "VKc8zgG5OaDN",
        "colab": {
          "base_uri": "https://localhost:8080/",
          "height": 34
        },
        "outputId": "56d0ba11-2400-4cf2-ca6a-28f157f0f9a2"
      },
      "source": [
        "X_train.shape"
      ],
      "execution_count": null,
      "outputs": [
        {
          "output_type": "execute_result",
          "data": {
            "text/plain": [
              "(40314, 1, 32, 32)"
            ]
          },
          "metadata": {
            "tags": []
          },
          "execution_count": 65
        }
      ]
    },
    {
      "cell_type": "code",
      "metadata": {
        "id": "uv3vuscqOayN"
      },
      "source": [
        "import pdfBoxes\n",
        "import Test_CharSeg as TC"
      ],
      "execution_count": null,
      "outputs": []
    },
    {
      "cell_type": "code",
      "metadata": {
        "id": "qX8E5584OhDs",
        "colab": {
          "base_uri": "https://localhost:8080/",
          "height": 207
        },
        "outputId": "43315f6b-eca1-4cec-9117-5e884b139853"
      },
      "source": [
        "!pip install pdf2image"
      ],
      "execution_count": null,
      "outputs": [
        {
          "output_type": "stream",
          "text": [
            "Collecting pdf2image\n",
            "  Downloading https://files.pythonhosted.org/packages/c3/12/ba5aadb3ba2e9c0f15d897622aa5707d64d0b2cab1fb34bee21559fa386a/pdf2image-1.12.1.tar.gz\n",
            "Requirement already satisfied: pillow in /usr/local/lib/python3.6/dist-packages (from pdf2image) (7.0.0)\n",
            "Building wheels for collected packages: pdf2image\n",
            "  Building wheel for pdf2image (setup.py) ... \u001b[?25l\u001b[?25hdone\n",
            "  Created wheel for pdf2image: filename=pdf2image-1.12.1-cp36-none-any.whl size=9027 sha256=ebd23ca5e283021c9057f4b95b37f16351065f4adc1bd54038764d5afdaf65d5\n",
            "  Stored in directory: /root/.cache/pip/wheels/0f/80/3a/fac1dc0f7dbe12c805b9dc6497f325f0e9f9cedbec3ab0185b\n",
            "Successfully built pdf2image\n",
            "Installing collected packages: pdf2image\n",
            "Successfully installed pdf2image-1.12.1\n"
          ],
          "name": "stdout"
        }
      ]
    },
    {
      "cell_type": "code",
      "metadata": {
        "id": "TkWUq5TwOkKM",
        "colab": {
          "base_uri": "https://localhost:8080/",
          "height": 425
        },
        "outputId": "ea01858a-b429-482c-86e7-678c90dea061"
      },
      "source": [
        "path = 'input0_Arial.pdf'\n",
        "pdfB = pdfBoxes.pdfBoxes(filePath=path)\n",
        "o1, o2 = pdfB.get_bounding_boxes()\n",
        "lines = o1[0]\n",
        "for i in range(len(lines)):\n",
        "  #print(lines[i].shape)\n",
        "  lines[i] = resize_image(lines[i],32)\n",
        "  lines[i] = np.array(lines[i])\n",
        "  #print(lines[i].shape)\n",
        "  lines[i] = lines[i].reshape((lines[i].shape[0],1,32,32))\n",
        "  lines[i] = standardizer.transform(lines[i])\n",
        "  lines[i] = torch.from_numpy(lines[i]).float()\n",
        "\n",
        "output = []\n",
        "for i in range(len(lines)):\n",
        "  loader = DataLoader(lines[i])\n",
        "  model.eval() # Set the model to evaluation mode\n",
        "  model = model.float()\n",
        "  correct = 0\n",
        "  with torch.no_grad(): # Do not calculate grident to speed up computation\n",
        "      out = []\n",
        "      for batch in tqdm(loader, position=0):\n",
        "          batch = batch.to(device)\n",
        "          pred = model(batch)\n",
        "          pred = torch.argmax(pred,dim=1)\n",
        "          pred = pred.item()\n",
        "          out.append(pred)\n",
        "  output.append(out)\n",
        "chars_lines = []\n",
        "for i in output:\n",
        "  chars = []\n",
        "  for j in range(len(i)):\n",
        "    val = i[j] + 1\n",
        "    if val <= 10:\n",
        "      val += 47\n",
        "    elif val > 10 and val < 37:\n",
        "      val += 54 \n",
        "    else:\n",
        "      val += 60\n",
        "    c = chr(val)\n",
        "    chars.append(c)\n",
        "  chars_lines.append(chars)\n",
        "\n",
        "file1 = open(\"output0_Arial.txt\",\"w\") \n",
        "print('\\n')\n",
        "for i in range(len(o2[0])):\n",
        "  line = chars_lines[i]\n",
        "  curr = 0\n",
        "  j = 0\n",
        "  l = \"\"\n",
        "  while j < len(line):\n",
        "    if curr != o2[0][i][0].shape[0] and j == o2[0][i][0][curr]:\n",
        "      l += line[j]\n",
        "      l += \" \"\n",
        "      curr += 1\n",
        "      j += 1\n",
        "    else:\n",
        "      l += line[j]\n",
        "      j += 1\n",
        "  l += '\\n'\n",
        "  file1.writelines(l)\n",
        "file1.close()\n"
      ],
      "execution_count": null,
      "outputs": [
        {
          "output_type": "stream",
          "text": [
            "100%|██████████| 72/72 [00:00<00:00, 560.81it/s]\n",
            "100%|██████████| 70/70 [00:00<00:00, 716.98it/s]\n",
            "100%|██████████| 79/79 [00:00<00:00, 690.81it/s]\n",
            "100%|██████████| 66/66 [00:00<00:00, 737.80it/s]\n",
            "100%|██████████| 68/68 [00:00<00:00, 732.35it/s]\n",
            "100%|██████████| 78/78 [00:00<00:00, 714.17it/s]\n",
            "100%|██████████| 71/71 [00:00<00:00, 709.33it/s]\n",
            "100%|██████████| 78/78 [00:00<00:00, 728.90it/s]\n",
            "100%|██████████| 82/82 [00:00<00:00, 710.91it/s]\n",
            "100%|██████████| 74/74 [00:00<00:00, 683.77it/s]\n",
            "100%|██████████| 79/79 [00:00<00:00, 688.68it/s]\n",
            "100%|██████████| 45/45 [00:00<00:00, 681.80it/s]\n",
            "100%|██████████| 65/65 [00:00<00:00, 682.54it/s]\n",
            "100%|██████████| 71/71 [00:00<00:00, 682.77it/s]\n",
            "100%|██████████| 79/79 [00:00<00:00, 708.46it/s]\n",
            "100%|██████████| 80/80 [00:00<00:00, 708.94it/s]\n",
            "100%|██████████| 74/74 [00:00<00:00, 689.63it/s]\n",
            "100%|██████████| 75/75 [00:00<00:00, 630.64it/s]\n",
            "100%|██████████| 61/61 [00:00<00:00, 722.78it/s]\n",
            "100%|██████████| 72/72 [00:00<00:00, 726.91it/s]\n",
            "100%|██████████| 70/70 [00:00<00:00, 702.79it/s]\n",
            "100%|██████████| 76/76 [00:00<00:00, 666.59it/s]"
          ],
          "name": "stderr"
        },
        {
          "output_type": "stream",
          "text": [
            "\n",
            "\n"
          ],
          "name": "stdout"
        },
        {
          "output_type": "stream",
          "text": [
            "\n"
          ],
          "name": "stderr"
        }
      ]
    },
    {
      "cell_type": "code",
      "metadata": {
        "id": "8iGXOrWitfa9"
      },
      "source": [
        ""
      ],
      "execution_count": null,
      "outputs": []
    },
    {
      "cell_type": "code",
      "metadata": {
        "id": "mEjFrCvTO0ve",
        "colab": {
          "base_uri": "https://localhost:8080/",
          "height": 289
        },
        "outputId": "ee8a65d1-a983-4e16-dcd7-f63c594cbf04"
      },
      "source": [
        "!apt-get install poppler-utils "
      ],
      "execution_count": null,
      "outputs": [
        {
          "output_type": "stream",
          "text": [
            "Reading package lists... Done\n",
            "Building dependency tree       \n",
            "Reading state information... Done\n",
            "The following NEW packages will be installed:\n",
            "  poppler-utils\n",
            "0 upgraded, 1 newly installed, 0 to remove and 25 not upgraded.\n",
            "Need to get 154 kB of archives.\n",
            "After this operation, 613 kB of additional disk space will be used.\n",
            "Get:1 http://archive.ubuntu.com/ubuntu bionic-updates/main amd64 poppler-utils amd64 0.62.0-2ubuntu2.10 [154 kB]\n",
            "Fetched 154 kB in 1s (306 kB/s)\n",
            "Selecting previously unselected package poppler-utils.\n",
            "(Reading database ... 144568 files and directories currently installed.)\n",
            "Preparing to unpack .../poppler-utils_0.62.0-2ubuntu2.10_amd64.deb ...\n",
            "Unpacking poppler-utils (0.62.0-2ubuntu2.10) ...\n",
            "Setting up poppler-utils (0.62.0-2ubuntu2.10) ...\n",
            "Processing triggers for man-db (2.8.3-2ubuntu0.1) ...\n"
          ],
          "name": "stdout"
        }
      ]
    },
    {
      "cell_type": "code",
      "metadata": {
        "id": "bjtB-6rIPqZF"
      },
      "source": [
        ""
      ],
      "execution_count": null,
      "outputs": []
    }
  ]
}